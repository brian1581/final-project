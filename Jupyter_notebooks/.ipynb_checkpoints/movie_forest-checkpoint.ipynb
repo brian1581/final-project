{
 "cells": [
  {
   "cell_type": "code",
   "execution_count": 1,
   "metadata": {},
   "outputs": [],
   "source": [
    "from sklearn import tree\n",
    "from sklearn.ensemble import RandomForestClassifier\n",
    "from sklearn.datasets import make_classification\n",
    "from sklearn.preprocessing import KBinsDiscretizer\n",
    "import pandas as pd\n",
    "import os\n",
    "import numpy as np"
   ]
  },
  {
   "cell_type": "code",
   "execution_count": 2,
   "metadata": {},
   "outputs": [
    {
     "data": {
      "text/html": [
       "<div>\n",
       "<style scoped>\n",
       "    .dataframe tbody tr th:only-of-type {\n",
       "        vertical-align: middle;\n",
       "    }\n",
       "\n",
       "    .dataframe tbody tr th {\n",
       "        vertical-align: top;\n",
       "    }\n",
       "\n",
       "    .dataframe thead th {\n",
       "        text-align: right;\n",
       "    }\n",
       "</style>\n",
       "<table border=\"1\" class=\"dataframe\">\n",
       "  <thead>\n",
       "    <tr style=\"text-align: right;\">\n",
       "      <th></th>\n",
       "      <th>title</th>\n",
       "      <th>budget</th>\n",
       "      <th>popularity</th>\n",
       "      <th>release_date</th>\n",
       "      <th>revenue</th>\n",
       "      <th>runtime</th>\n",
       "      <th>vote_average</th>\n",
       "      <th>vote_count</th>\n",
       "    </tr>\n",
       "  </thead>\n",
       "  <tbody>\n",
       "    <tr>\n",
       "      <td>0</td>\n",
       "      <td>The Godfather</td>\n",
       "      <td>6000000</td>\n",
       "      <td>41</td>\n",
       "      <td>1972</td>\n",
       "      <td>1499126346</td>\n",
       "      <td>175</td>\n",
       "      <td>8.5</td>\n",
       "      <td>6024</td>\n",
       "    </tr>\n",
       "    <tr>\n",
       "      <td>1</td>\n",
       "      <td>The Shawshank Redemption</td>\n",
       "      <td>25000000</td>\n",
       "      <td>51</td>\n",
       "      <td>1994</td>\n",
       "      <td>48899552</td>\n",
       "      <td>142</td>\n",
       "      <td>8.5</td>\n",
       "      <td>8358</td>\n",
       "    </tr>\n",
       "    <tr>\n",
       "      <td>2</td>\n",
       "      <td>Fight Club</td>\n",
       "      <td>63000000</td>\n",
       "      <td>63</td>\n",
       "      <td>1999</td>\n",
       "      <td>154791744</td>\n",
       "      <td>139</td>\n",
       "      <td>8.3</td>\n",
       "      <td>9678</td>\n",
       "    </tr>\n",
       "    <tr>\n",
       "      <td>3</td>\n",
       "      <td>Schindler's List</td>\n",
       "      <td>22000000</td>\n",
       "      <td>41</td>\n",
       "      <td>1993</td>\n",
       "      <td>568672494</td>\n",
       "      <td>195</td>\n",
       "      <td>8.3</td>\n",
       "      <td>4436</td>\n",
       "    </tr>\n",
       "    <tr>\n",
       "      <td>4</td>\n",
       "      <td>One Flew Over the Cuckoo's Nest</td>\n",
       "      <td>3000000</td>\n",
       "      <td>35</td>\n",
       "      <td>1975</td>\n",
       "      <td>517964907</td>\n",
       "      <td>133</td>\n",
       "      <td>8.3</td>\n",
       "      <td>3001</td>\n",
       "    </tr>\n",
       "  </tbody>\n",
       "</table>\n",
       "</div>"
      ],
      "text/plain": [
       "                             title    budget  popularity  release_date  \\\n",
       "0                    The Godfather   6000000          41          1972   \n",
       "1         The Shawshank Redemption  25000000          51          1994   \n",
       "2                       Fight Club  63000000          63          1999   \n",
       "3                 Schindler's List  22000000          41          1993   \n",
       "4  One Flew Over the Cuckoo's Nest   3000000          35          1975   \n",
       "\n",
       "      revenue  runtime  vote_average  vote_count  \n",
       "0  1499126346      175           8.5        6024  \n",
       "1    48899552      142           8.5        8358  \n",
       "2   154791744      139           8.3        9678  \n",
       "3   568672494      195           8.3        4436  \n",
       "4   517964907      133           8.3        3001  "
      ]
     },
     "execution_count": 2,
     "metadata": {},
     "output_type": "execute_result"
    }
   ],
   "source": [
    "mv_df = pd.read_csv(os.path.join(\"..\", \"Resources\", \"movie_metadata_adjusted_revenue.csv\"))\n",
    "mv_df['popularity'] = mv_df['popularity'].astype(int)\n",
    "mv_df['revenue'] = mv_df['revenue'].str.replace(',','').astype(float).astype(int)\n",
    "mv_df = mv_df.drop(columns={'Unnamed: 0'})\n",
    "mv_df.head()"
   ]
  },
  {
   "cell_type": "code",
   "execution_count": 3,
   "metadata": {},
   "outputs": [
    {
     "name": "stderr",
     "output_type": "stream",
     "text": [
      "/Users/brian.abbe/anaconda3/envs/Pythondata/lib/python3.6/site-packages/sklearn/ensemble/forest.py:245: FutureWarning: The default value of n_estimators will change from 10 in version 0.20 to 100 in 0.22.\n",
      "  \"10 in version 0.20 to 100 in 0.22.\", FutureWarning)\n"
     ]
    },
    {
     "data": {
      "text/plain": [
       "RandomForestClassifier(bootstrap=True, class_weight=None, criterion='gini',\n",
       "                       max_depth=2, max_features='auto', max_leaf_nodes=None,\n",
       "                       min_impurity_decrease=0.0, min_impurity_split=None,\n",
       "                       min_samples_leaf=1, min_samples_split=2,\n",
       "                       min_weight_fraction_leaf=0.0, n_estimators=10,\n",
       "                       n_jobs=None, oob_score=False, random_state=0, verbose=0,\n",
       "                       warm_start=False)"
      ]
     },
     "execution_count": 3,
     "metadata": {},
     "output_type": "execute_result"
    }
   ],
   "source": [
    "X, y = make_classification(n_samples=200, n_features=6, n_informative=2, n_redundant=0,\n",
    "                           random_state=0, shuffle=False)\n",
    "rf = RandomForestClassifier(max_depth=2, random_state=0)\n",
    "rf.fit(X, y)\n",
    "# rf.predict(np.array([8,1]).reshape(-1, 1))\n",
    "# model = rf.predict(np.array([8,1])).shape\n",
    "# model = np.array([8,1]).shape\n",
    "# print(model)"
   ]
  },
  {
   "cell_type": "code",
   "execution_count": 4,
   "metadata": {},
   "outputs": [
    {
     "name": "stdout",
     "output_type": "stream",
     "text": [
      "[[0. 1. 0. 6. 3. 3.]\n",
      " [2. 4. 7. 6. 5. 4.]\n",
      " [0. 0. 7. 7. 6. 6.]\n",
      " ...\n",
      " [6. 6. 0. 5. 1. 0.]\n",
      " [2. 4. 7. 5. 1. 0.]\n",
      " [2. 4. 6. 1. 7. 6.]]\n"
     ]
    }
   ],
   "source": [
    "enc = KBinsDiscretizer(n_bins=8, encode='ordinal')\n",
    "enc.fit(X)\n",
    "result = enc.transform(X)\n",
    "print(result)"
   ]
  },
  {
   "cell_type": "code",
   "execution_count": 14,
   "metadata": {},
   "outputs": [
    {
     "name": "stdout",
     "output_type": "stream",
     "text": [
      "-0.7826291558275251\n"
     ]
    }
   ],
   "source": [
    "# print(result[:,1:2])\n",
    "X[:,2:3] = result[:,2:3]\n",
    "X[:,3:4] = result[:,3:4]\n",
    "X[:,5:6] = result[:,5:6]\n",
    "X[:,7:8] = result[:,7:8]\n",
    "X[:,8:9] = result[:,8:9]\n",
    "# X[:,2:3] = result[:,2:3]\n",
    "\n",
    "print(X[9][4])"
   ]
  },
  {
   "cell_type": "code",
   "execution_count": 6,
   "metadata": {},
   "outputs": [
    {
     "name": "stdout",
     "output_type": "stream",
     "text": [
      "[0.05845772 0.82927202 0.02396409 0.0285356  0.05171314 0.00805742]\n"
     ]
    },
    {
     "name": "stderr",
     "output_type": "stream",
     "text": [
      "/Users/brian.abbe/anaconda3/envs/Pythondata/lib/python3.6/site-packages/sklearn/ensemble/forest.py:245: FutureWarning: The default value of n_estimators will change from 10 in version 0.20 to 100 in 0.22.\n",
      "  \"10 in version 0.20 to 100 in 0.22.\", FutureWarning)\n"
     ]
    }
   ],
   "source": [
    "rf2 = RandomForestClassifier(max_depth=3, random_state=0)\n",
    "rf2.fit(X, y)\n",
    "print(rf2.feature_importances_)"
   ]
  },
  {
   "cell_type": "code",
   "execution_count": 7,
   "metadata": {},
   "outputs": [
    {
     "data": {
      "text/plain": [
       "[(0.829272024866647, 'The Shawshank Redemption'),\n",
       " (0.05845772463860185, 'The Godfather'),\n",
       " (0.05171313914592953, \"One Flew Over the Cuckoo's Nest\"),\n",
       " (0.028535599740821004, \"Schindler's List\"),\n",
       " (0.023964094719163928, 'Fight Club'),\n",
       " (0.008057416888836598, 'The Dark Knight')]"
      ]
     },
     "execution_count": 7,
     "metadata": {},
     "output_type": "execute_result"
    }
   ],
   "source": [
    "sorted(zip(rf2.feature_importances_, mv_df.title), reverse=True)"
   ]
  },
  {
   "cell_type": "code",
   "execution_count": 8,
   "metadata": {},
   "outputs": [],
   "source": [
    "# rf = RandomForestClassifier(n_estimators=200)\n",
    "# rf = rf.fit(mv_df.revenue, mv_df.vote_average)\n",
    "# rf.score(mv_df.revenue, mv_df.vote_average)\n",
    "from sklearn.model_selection import train_test_split\n",
    "X_train, X_test, y_train, y_test = train_test_split(X, y, random_state=42)"
   ]
  },
  {
   "cell_type": "code",
   "execution_count": 9,
   "metadata": {},
   "outputs": [
    {
     "data": {
      "text/plain": [
       "0.96"
      ]
     },
     "execution_count": 9,
     "metadata": {},
     "output_type": "execute_result"
    }
   ],
   "source": [
    "rf2 = rf2.fit(X_train, y_train)\n",
    "rf2.score(X_test, y_test)"
   ]
  },
  {
   "cell_type": "code",
   "execution_count": null,
   "metadata": {},
   "outputs": [],
   "source": []
  }
 ],
 "metadata": {
  "kernelspec": {
   "display_name": "Python 3",
   "language": "python",
   "name": "python3"
  },
  "language_info": {
   "codemirror_mode": {
    "name": "ipython",
    "version": 3
   },
   "file_extension": ".py",
   "mimetype": "text/x-python",
   "name": "python",
   "nbconvert_exporter": "python",
   "pygments_lexer": "ipython3",
   "version": "3.6.9"
  }
 },
 "nbformat": 4,
 "nbformat_minor": 2
}
