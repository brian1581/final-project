{
 "cells": [
  {
   "cell_type": "code",
   "execution_count": 11,
   "metadata": {},
   "outputs": [],
   "source": [
    "# Dependencies\n",
    "from sklearn import tree\n",
    "from sklearn.tree import export_graphviz\n",
    "from sklearn.ensemble import RandomForestClassifier\n",
    "from sklearn.preprocessing import KBinsDiscretizer\n",
    "from sklearn.preprocessing import StandardScaler\n",
    "from sklearn.model_selection import train_test_split\n",
    "import pandas as pd\n",
    "import os\n",
    "import numpy as np\n",
    "import matplotlib.pyplot as plt"
   ]
  },
  {
   "cell_type": "code",
   "execution_count": 2,
   "metadata": {},
   "outputs": [
    {
     "data": {
      "text/html": [
       "<div>\n",
       "<style scoped>\n",
       "    .dataframe tbody tr th:only-of-type {\n",
       "        vertical-align: middle;\n",
       "    }\n",
       "\n",
       "    .dataframe tbody tr th {\n",
       "        vertical-align: top;\n",
       "    }\n",
       "\n",
       "    .dataframe thead th {\n",
       "        text-align: right;\n",
       "    }\n",
       "</style>\n",
       "<table border=\"1\" class=\"dataframe\">\n",
       "  <thead>\n",
       "    <tr style=\"text-align: right;\">\n",
       "      <th></th>\n",
       "      <th>budget</th>\n",
       "      <th>popularity</th>\n",
       "      <th>revenue</th>\n",
       "      <th>vote_average</th>\n",
       "      <th>vote_count</th>\n",
       "      <th>top_critic_review_count</th>\n",
       "      <th>review_count</th>\n",
       "      <th>star_power</th>\n",
       "    </tr>\n",
       "  </thead>\n",
       "  <tbody>\n",
       "    <tr>\n",
       "      <td>0</td>\n",
       "      <td>6000000</td>\n",
       "      <td>41</td>\n",
       "      <td>1499126346.72</td>\n",
       "      <td>8.5</td>\n",
       "      <td>6024</td>\n",
       "      <td>24</td>\n",
       "      <td>82</td>\n",
       "      <td>1</td>\n",
       "    </tr>\n",
       "    <tr>\n",
       "      <td>1</td>\n",
       "      <td>25000000</td>\n",
       "      <td>51</td>\n",
       "      <td>48899552.11</td>\n",
       "      <td>8.5</td>\n",
       "      <td>8358</td>\n",
       "      <td>18</td>\n",
       "      <td>63</td>\n",
       "      <td>1</td>\n",
       "    </tr>\n",
       "    <tr>\n",
       "      <td>2</td>\n",
       "      <td>63000000</td>\n",
       "      <td>63</td>\n",
       "      <td>154791744.55</td>\n",
       "      <td>8.3</td>\n",
       "      <td>9678</td>\n",
       "      <td>36</td>\n",
       "      <td>153</td>\n",
       "      <td>1</td>\n",
       "    </tr>\n",
       "    <tr>\n",
       "      <td>3</td>\n",
       "      <td>22000000</td>\n",
       "      <td>41</td>\n",
       "      <td>568672494.68</td>\n",
       "      <td>8.3</td>\n",
       "      <td>4436</td>\n",
       "      <td>22</td>\n",
       "      <td>84</td>\n",
       "      <td>1</td>\n",
       "    </tr>\n",
       "    <tr>\n",
       "      <td>4</td>\n",
       "      <td>3000000</td>\n",
       "      <td>35</td>\n",
       "      <td>517964907.39</td>\n",
       "      <td>8.3</td>\n",
       "      <td>3001</td>\n",
       "      <td>13</td>\n",
       "      <td>59</td>\n",
       "      <td>1</td>\n",
       "    </tr>\n",
       "    <tr>\n",
       "      <td>...</td>\n",
       "      <td>...</td>\n",
       "      <td>...</td>\n",
       "      <td>...</td>\n",
       "      <td>...</td>\n",
       "      <td>...</td>\n",
       "      <td>...</td>\n",
       "      <td>...</td>\n",
       "      <td>...</td>\n",
       "    </tr>\n",
       "    <tr>\n",
       "      <td>1094</td>\n",
       "      <td>25000000</td>\n",
       "      <td>24</td>\n",
       "      <td>86673943.59</td>\n",
       "      <td>4.8</td>\n",
       "      <td>1075</td>\n",
       "      <td>20</td>\n",
       "      <td>111</td>\n",
       "      <td>0</td>\n",
       "    </tr>\n",
       "    <tr>\n",
       "      <td>1095</td>\n",
       "      <td>150000000</td>\n",
       "      <td>9</td>\n",
       "      <td>373412184.37</td>\n",
       "      <td>4.7</td>\n",
       "      <td>1180</td>\n",
       "      <td>43</td>\n",
       "      <td>188</td>\n",
       "      <td>0</td>\n",
       "    </tr>\n",
       "    <tr>\n",
       "      <td>1096</td>\n",
       "      <td>57000000</td>\n",
       "      <td>9</td>\n",
       "      <td>169652635.28</td>\n",
       "      <td>4.7</td>\n",
       "      <td>1163</td>\n",
       "      <td>21</td>\n",
       "      <td>112</td>\n",
       "      <td>1</td>\n",
       "    </tr>\n",
       "    <tr>\n",
       "      <td>1097</td>\n",
       "      <td>125000000</td>\n",
       "      <td>17</td>\n",
       "      <td>379498823.02</td>\n",
       "      <td>4.2</td>\n",
       "      <td>1447</td>\n",
       "      <td>28</td>\n",
       "      <td>87</td>\n",
       "      <td>1</td>\n",
       "    </tr>\n",
       "    <tr>\n",
       "      <td>1098</td>\n",
       "      <td>4000000</td>\n",
       "      <td>10</td>\n",
       "      <td>56562409.80</td>\n",
       "      <td>4.1</td>\n",
       "      <td>1034</td>\n",
       "      <td>37</td>\n",
       "      <td>132</td>\n",
       "      <td>1</td>\n",
       "    </tr>\n",
       "  </tbody>\n",
       "</table>\n",
       "<p>1099 rows × 8 columns</p>\n",
       "</div>"
      ],
      "text/plain": [
       "         budget  popularity        revenue  vote_average  vote_count  \\\n",
       "0       6000000          41  1499126346.72           8.5        6024   \n",
       "1      25000000          51    48899552.11           8.5        8358   \n",
       "2      63000000          63   154791744.55           8.3        9678   \n",
       "3      22000000          41   568672494.68           8.3        4436   \n",
       "4       3000000          35   517964907.39           8.3        3001   \n",
       "...         ...         ...            ...           ...         ...   \n",
       "1094   25000000          24    86673943.59           4.8        1075   \n",
       "1095  150000000           9   373412184.37           4.7        1180   \n",
       "1096   57000000           9   169652635.28           4.7        1163   \n",
       "1097  125000000          17   379498823.02           4.2        1447   \n",
       "1098    4000000          10    56562409.80           4.1        1034   \n",
       "\n",
       "      top_critic_review_count  review_count  star_power  \n",
       "0                          24            82           1  \n",
       "1                          18            63           1  \n",
       "2                          36           153           1  \n",
       "3                          22            84           1  \n",
       "4                          13            59           1  \n",
       "...                       ...           ...         ...  \n",
       "1094                       20           111           0  \n",
       "1095                       43           188           0  \n",
       "1096                       21           112           1  \n",
       "1097                       28            87           1  \n",
       "1098                       37           132           1  \n",
       "\n",
       "[1099 rows x 8 columns]"
      ]
     },
     "execution_count": 2,
     "metadata": {},
     "output_type": "execute_result"
    }
   ],
   "source": [
    "# import csv and quick clean dataframe for modeling. Leave secondary comments for alternative column models\n",
    "mv_df = pd.read_csv(os.path.join(\"..\", \"Resources\", \"movie_metadata_adjusted_revenue_threegenres_reviews.csv\"))\n",
    "mv_df['popularity'] = mv_df['popularity'].astype(int)\n",
    "mv_df['revenue'] = mv_df['revenue'].str.replace(',','').astype(str)\n",
    "mv_df['top_critic_review_count'] = mv_df['top_critic_review_count'].astype(int)\n",
    "mv_df['review_count'] = mv_df['review_count'].astype(int)\n",
    "mv_df_final = mv_df.drop(columns={'title', 'release_date', 'runtime', 'first_genre',\\\n",
    "'second_genre', 'third_genre', 'Unnamed: 0'}, axis=1)\n",
    "\n",
    "mv_df_final"
   ]
  },
  {
   "cell_type": "code",
   "execution_count": 3,
   "metadata": {},
   "outputs": [
    {
     "name": "stdout",
     "output_type": "stream",
     "text": [
      "0       1499126346.72\n",
      "1         48899552.11\n",
      "2        154791744.55\n",
      "3        568672494.68\n",
      "4        517964907.39\n",
      "            ...      \n",
      "1094      86673943.59\n",
      "1095     373412184.37\n",
      "1096     169652635.28\n",
      "1097     379498823.02\n",
      "1098      56562409.80\n",
      "Name: revenue, Length: 1099, dtype: object\n"
     ]
    }
   ],
   "source": [
    "# set up data, target and feature_names variables for future use\n",
    "target = mv_df_final['revenue']\n",
    "\n",
    "data = mv_df_final.drop(\"revenue\", axis=1)\n",
    "\n",
    "feature_names = data.columns\n",
    "print(target)"
   ]
  },
  {
   "cell_type": "code",
   "execution_count": 4,
   "metadata": {},
   "outputs": [
    {
     "name": "stderr",
     "output_type": "stream",
     "text": [
      "/Users/brian.abbe/anaconda3/envs/Pythondata/lib/python3.6/site-packages/sklearn/ensemble/forest.py:245: FutureWarning: The default value of n_estimators will change from 10 in version 0.20 to 100 in 0.22.\n",
      "  \"10 in version 0.20 to 100 in 0.22.\", FutureWarning)\n"
     ]
    },
    {
     "data": {
      "text/plain": [
       "RandomForestClassifier(bootstrap=True, class_weight=None, criterion='gini',\n",
       "                       max_depth=2, max_features='auto', max_leaf_nodes=None,\n",
       "                       min_impurity_decrease=0.0, min_impurity_split=None,\n",
       "                       min_samples_leaf=1, min_samples_split=2,\n",
       "                       min_weight_fraction_leaf=0.0, n_estimators=10,\n",
       "                       n_jobs=None, oob_score=False, random_state=0, verbose=0,\n",
       "                       warm_start=False)"
      ]
     },
     "execution_count": 4,
     "metadata": {},
     "output_type": "execute_result"
    }
   ],
   "source": [
    "# setup rf model\n",
    "rf = RandomForestClassifier(max_depth=2, random_state=0)\n",
    "rf.fit(data, target)"
   ]
  },
  {
   "cell_type": "code",
   "execution_count": 5,
   "metadata": {},
   "outputs": [],
   "source": [
    "# bin the data with KBinsDiscretizer\n",
    "target_model = target.to_numpy().reshape(-1, 1)\n",
    "enc = KBinsDiscretizer(n_bins=5, encode='ordinal', strategy='kmeans')\n",
    "enc.fit(target_model)\n",
    "result = enc.transform(target_model)\n",
    "str_result = enc.transform(target_model)\n",
    "str_final = np.ravel(str_result).astype(str)"
   ]
  },
  {
   "cell_type": "code",
   "execution_count": 6,
   "metadata": {},
   "outputs": [
    {
     "name": "stderr",
     "output_type": "stream",
     "text": [
      "/Users/brian.abbe/anaconda3/envs/Pythondata/lib/python3.6/site-packages/ipykernel_launcher.py:3: DataConversionWarning: A column-vector y was passed when a 1d array was expected. Please change the shape of y to (n_samples,), for example using ravel().\n",
      "  This is separate from the ipykernel package so we can avoid doing imports until\n"
     ]
    },
    {
     "name": "stdout",
     "output_type": "stream",
     "text": [
      "[0.2790709  0.1981076  0.06003165 0.35628867 0.04335163 0.05817729\n",
      " 0.00497227]\n"
     ]
    }
   ],
   "source": [
    "# rerun rf on binned data\n",
    "rf2 = RandomForestClassifier(max_depth=3, random_state=0, n_estimators=80)\n",
    "rf2.fit(data, result)\n",
    "print(rf2.feature_importances_)"
   ]
  },
  {
   "cell_type": "code",
   "execution_count": 14,
   "metadata": {},
   "outputs": [
    {
     "name": "stdout",
     "output_type": "stream",
     "text": [
      "Variable: b Importance: u\n",
      "Variable: p Importance: o\n",
      "Variable: v Importance: o\n",
      "Variable: v Importance: o\n",
      "Variable: t Importance: o\n",
      "Variable: r Importance: e\n",
      "Variable: s Importance: t\n"
     ]
    }
   ],
   "source": [
    "# Get numerical feature importances\n",
    "importances = list(rf.feature_importances_)\n",
    "# List of tuples with variable and importance\n",
    "feature_importances = [(feature, round(importances, 2)) for feature, importances in zip(feature_names, importances)]\n",
    "# Sort the feature importances by most important first\n",
    "feature_importances = sorted(feature_importances, key = lambda x: x[1], reverse = True)\n",
    "# Print out the feature and importances \n",
    "[print('Variable: {:1} Importance: {}'.format(*pair)) for pair in feature_names];"
   ]
  },
  {
   "cell_type": "code",
   "execution_count": 7,
   "metadata": {},
   "outputs": [
    {
     "data": {
      "text/plain": [
       "[(0.3562886693589105, \"Schindler's List\"),\n",
       " (0.2790708962870912, 'The Godfather'),\n",
       " (0.1981075972127606, 'The Shawshank Redemption'),\n",
       " (0.06003165193563766, 'Fight Club'),\n",
       " (0.058177285766374195, 'The Dark Knight'),\n",
       " (0.04335162975143703, \"One Flew Over the Cuckoo's Nest\"),\n",
       " (0.004972269687788767, 'Whiplash')]"
      ]
     },
     "execution_count": 7,
     "metadata": {},
     "output_type": "execute_result"
    }
   ],
   "source": [
    "# sort feature_importances with title in descending order\n",
    "sorted(zip(rf2.feature_importances_, mv_df.title), reverse=True)"
   ]
  },
  {
   "cell_type": "code",
   "execution_count": 8,
   "metadata": {},
   "outputs": [],
   "source": [
    "# setup train_test_split\n",
    "X_train, X_test, y_train, y_test = train_test_split(data, result, random_state=42)"
   ]
  },
  {
   "cell_type": "code",
   "execution_count": 9,
   "metadata": {},
   "outputs": [
    {
     "name": "stdout",
     "output_type": "stream",
     "text": [
      "Score: 0.850909090909091\n",
      "[[0.80340052 0.18991975 0.0038243  0.00285543]\n",
      " [0.85750391 0.1286619  0.00742776 0.00640643]\n",
      " [0.85021594 0.12957432 0.01076521 0.00944453]\n",
      " ...\n",
      " [0.69773198 0.2916577  0.0070069  0.00360342]\n",
      " [0.8165971  0.15320184 0.01619284 0.01400822]\n",
      " [0.84538903 0.13618887 0.01011596 0.00830614]]\n"
     ]
    }
   ],
   "source": [
    "# scale the data and get an accuracy score\n",
    "scaler = StandardScaler()\n",
    "scaler.fit(X_train)\n",
    "\n",
    "rf2 = rf2.fit(X_train, np.ravel(y_train))\n",
    "score = rf2.score(X_test, y_test)\n",
    "print(f\"Score: {score}\")\n",
    "\n",
    "predictor = rf2.predict_proba(X_test)\n",
    "print(predictor)"
   ]
  },
  {
   "cell_type": "code",
   "execution_count": null,
   "metadata": {},
   "outputs": [],
   "source": [
    "# create a tree visual\n",
    "estimator = rf2.estimators_[5]\n",
    "\n",
    "export_graphviz(estimator, out_file='movie.dot', \n",
    "                feature_names = feature_names,\n",
    "                class_names = str_final,filled=True,\n",
    "                rounded = True, proportion = False)\n",
    "\n",
    "# Convert to png using system command (requires Graphviz)\n",
    "from subprocess import call\n",
    "call(['dot', '-Tpng', 'movie.dot', '-o', 'movies.png', '-Gdpi=600'])\n",
    "\n",
    "# Display in jupyter notebook\n",
    "from IPython.display import Image\n",
    "Image(filename = 'movies.png')"
   ]
  },
  {
   "cell_type": "code",
   "execution_count": null,
   "metadata": {},
   "outputs": [],
   "source": [
    "# Create 2nd tree\n",
    "estimator = rf2.estimators_[36]\n",
    "\n",
    "export_graphviz(estimator, out_file='movie_second.dot', \n",
    "                feature_names = feature_names,\n",
    "                class_names = str_final,filled=True,\n",
    "                rounded = True, proportion = False)\n",
    "\n",
    "from subprocess import call\n",
    "call(['dot', '-Tpng', 'movie_second.dot', '-o', 'movies_second.png', '-Gdpi=600'])\n",
    "\n",
    "from IPython.display import Image\n",
    "Image(filename = 'movies_second.png')"
   ]
  },
  {
   "cell_type": "code",
   "execution_count": null,
   "metadata": {},
   "outputs": [],
   "source": [
    "# Create 3rd tree\n",
    "estimator = rf2.estimators_[77]\n",
    "\n",
    "export_graphviz(estimator, out_file='movie_third.dot', \n",
    "                feature_names = feature_names,\n",
    "                class_names = str_final,filled=True,\n",
    "                rounded = True, proportion = False)\n",
    "\n",
    "from subprocess import call\n",
    "call(['dot', '-Tpng', 'movie_third.dot', '-o', 'movies_third.png', '-Gdpi=600'])\n",
    "\n",
    "from IPython.display import Image\n",
    "Image(filename = 'movies_third.png')"
   ]
  },
  {
   "cell_type": "code",
   "execution_count": null,
   "metadata": {},
   "outputs": [],
   "source": [
    "# Create 4th tree\n",
    "estimator = rf2.estimators_[54]\n",
    "\n",
    "export_graphviz(estimator, out_file='movie_fourth.dot', \n",
    "                feature_names = feature_names,\n",
    "                class_names = str_final,filled=True,\n",
    "                rounded = True, proportion = False)\n",
    "\n",
    "from subprocess import call\n",
    "call(['dot', '-Tpng', 'movie_fourth.dot', '-o', 'movies_fourth.png', '-Gdpi=600'])\n",
    "\n",
    "from IPython.display import Image\n",
    "Image(filename = 'movies_fourth.png')"
   ]
  },
  {
   "cell_type": "code",
   "execution_count": 24,
   "metadata": {},
   "outputs": [
    {
     "data": {
      "text/html": [
       "<div>\n",
       "<style scoped>\n",
       "    .dataframe tbody tr th:only-of-type {\n",
       "        vertical-align: middle;\n",
       "    }\n",
       "\n",
       "    .dataframe tbody tr th {\n",
       "        vertical-align: top;\n",
       "    }\n",
       "\n",
       "    .dataframe thead th {\n",
       "        text-align: right;\n",
       "    }\n",
       "</style>\n",
       "<table border=\"1\" class=\"dataframe\">\n",
       "  <thead>\n",
       "    <tr style=\"text-align: right;\">\n",
       "      <th></th>\n",
       "      <th>index</th>\n",
       "      <th>variables</th>\n",
       "      <th>values</th>\n",
       "    </tr>\n",
       "  </thead>\n",
       "  <tbody>\n",
       "    <tr>\n",
       "      <td>0</td>\n",
       "      <td>0</td>\n",
       "      <td>budget</td>\n",
       "      <td>0.035165</td>\n",
       "    </tr>\n",
       "    <tr>\n",
       "      <td>1</td>\n",
       "      <td>2</td>\n",
       "      <td>vote_average</td>\n",
       "      <td>0.035526</td>\n",
       "    </tr>\n",
       "    <tr>\n",
       "      <td>2</td>\n",
       "      <td>1</td>\n",
       "      <td>popularity</td>\n",
       "      <td>0.101764</td>\n",
       "    </tr>\n",
       "    <tr>\n",
       "      <td>3</td>\n",
       "      <td>5</td>\n",
       "      <td>review_count</td>\n",
       "      <td>0.152788</td>\n",
       "    </tr>\n",
       "    <tr>\n",
       "      <td>4</td>\n",
       "      <td>4</td>\n",
       "      <td>top_critic_review_count</td>\n",
       "      <td>0.191349</td>\n",
       "    </tr>\n",
       "    <tr>\n",
       "      <td>5</td>\n",
       "      <td>6</td>\n",
       "      <td>star_power</td>\n",
       "      <td>0.237261</td>\n",
       "    </tr>\n",
       "    <tr>\n",
       "      <td>6</td>\n",
       "      <td>3</td>\n",
       "      <td>vote_count</td>\n",
       "      <td>0.246146</td>\n",
       "    </tr>\n",
       "  </tbody>\n",
       "</table>\n",
       "</div>"
      ],
      "text/plain": [
       "   index                variables    values\n",
       "0      0                   budget  0.035165\n",
       "1      2             vote_average  0.035526\n",
       "2      1               popularity  0.101764\n",
       "3      5             review_count  0.152788\n",
       "4      4  top_critic_review_count  0.191349\n",
       "5      6               star_power  0.237261\n",
       "6      3               vote_count  0.246146"
      ]
     },
     "execution_count": 24,
     "metadata": {},
     "output_type": "execute_result"
    }
   ],
   "source": [
    "# setup a quick dataframe to sort score in descending order to plot\n",
    "df = pd.DataFrame({'variables': feature_names,'values':importances})\n",
    "df_sorted = df.loc[(df['values'] > 0)]\n",
    "df_sorted = df_sorted.sort_values(by=['values'], ascending=True)\n",
    "df_sorted.reset_index(inplace=True)\n",
    "df_sorted"
   ]
  },
  {
   "cell_type": "code",
   "execution_count": 28,
   "metadata": {},
   "outputs": [
    {
     "data": {
      "image/png": "[encoded data removed]",
      "text/plain": [
       "<Figure size 432x288 with 1 Axes>"
      ]
     },
     "metadata": {},
     "output_type": "display_data"
    }
   ],
   "source": [
    "# Import matplotlib for plotting and use magic command for Jupyter Notebooks\n",
    "%matplotlib inline\n",
    "# Set the style\n",
    "plt.style.use('fivethirtyeight')\n",
    "# list of x locations for plotting\n",
    "y_values = df_sorted['variables']\n",
    "important = df_sorted['values'] * 100\n",
    "# Make a bar chart\n",
    "plt.barh(y_values, important, orientation = 'horizontal')\n",
    "# Tick labels for x axis\n",
    "plt.yticks(y_values, rotation='horizontal')\n",
    "# Axis labels and title\n",
    "plt.ylabel('Variables'); plt.xlabel('Score'); plt.title('Revenue Scoring Relative to Other Variables');\n",
    "\n",
    "plt.savefig('../Output/movie_hbar.png')"
   ]
  },
  {
   "cell_type": "code",
   "execution_count": null,
   "metadata": {},
   "outputs": [],
   "source": []
  }
 ],
 "metadata": {
  "kernelspec": {
   "display_name": "Python 3",
   "language": "python",
   "name": "python3"
  },
  "language_info": {
   "codemirror_mode": {
    "name": "ipython",
    "version": 3
   },
   "file_extension": ".py",
   "mimetype": "text/x-python",
   "name": "python",
   "nbconvert_exporter": "python",
   "pygments_lexer": "ipython3",
   "version": "3.6.9"
  }
 },
 "nbformat": 4,
 "nbformat_minor": 2
}
