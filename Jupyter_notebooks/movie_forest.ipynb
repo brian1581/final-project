{
 "cells": [
  {
   "cell_type": "code",
   "execution_count": 20,
   "metadata": {},
   "outputs": [],
   "source": [
    "from sklearn import tree\n",
    "from sklearn.ensemble import RandomForestClassifier\n",
    "from sklearn.datasets import make_classification\n",
    "from sklearn.preprocessing import KBinsDiscretizer\n",
    "import pandas as pd\n",
    "import os\n",
    "import numpy as np"
   ]
  },
  {
   "cell_type": "code",
   "execution_count": 19,
   "metadata": {},
   "outputs": [
    {
     "data": {
      "text/html": [
       "<div>\n",
       "<style scoped>\n",
       "    .dataframe tbody tr th:only-of-type {\n",
       "        vertical-align: middle;\n",
       "    }\n",
       "\n",
       "    .dataframe tbody tr th {\n",
       "        vertical-align: top;\n",
       "    }\n",
       "\n",
       "    .dataframe thead th {\n",
       "        text-align: right;\n",
       "    }\n",
       "</style>\n",
       "<table border=\"1\" class=\"dataframe\">\n",
       "  <thead>\n",
       "    <tr style=\"text-align: right;\">\n",
       "      <th></th>\n",
       "      <th>title</th>\n",
       "      <th>budget</th>\n",
       "      <th>popularity</th>\n",
       "      <th>release_date</th>\n",
       "      <th>revenue</th>\n",
       "      <th>runtime</th>\n",
       "      <th>vote_average</th>\n",
       "      <th>vote_count</th>\n",
       "    </tr>\n",
       "  </thead>\n",
       "  <tbody>\n",
       "    <tr>\n",
       "      <td>0</td>\n",
       "      <td>The Godfather</td>\n",
       "      <td>6000000</td>\n",
       "      <td>41</td>\n",
       "      <td>1972</td>\n",
       "      <td>245066411</td>\n",
       "      <td>175</td>\n",
       "      <td>8.5</td>\n",
       "      <td>6024</td>\n",
       "    </tr>\n",
       "    <tr>\n",
       "      <td>1</td>\n",
       "      <td>The Shawshank Redemption</td>\n",
       "      <td>25000000</td>\n",
       "      <td>51</td>\n",
       "      <td>1994</td>\n",
       "      <td>28341469</td>\n",
       "      <td>142</td>\n",
       "      <td>8.5</td>\n",
       "      <td>8358</td>\n",
       "    </tr>\n",
       "    <tr>\n",
       "      <td>2</td>\n",
       "      <td>Fight Club</td>\n",
       "      <td>63000000</td>\n",
       "      <td>63</td>\n",
       "      <td>1999</td>\n",
       "      <td>100853753</td>\n",
       "      <td>139</td>\n",
       "      <td>8.3</td>\n",
       "      <td>9678</td>\n",
       "    </tr>\n",
       "    <tr>\n",
       "      <td>3</td>\n",
       "      <td>Schindler's List</td>\n",
       "      <td>22000000</td>\n",
       "      <td>41</td>\n",
       "      <td>1993</td>\n",
       "      <td>321365567</td>\n",
       "      <td>195</td>\n",
       "      <td>8.3</td>\n",
       "      <td>4436</td>\n",
       "    </tr>\n",
       "    <tr>\n",
       "      <td>4</td>\n",
       "      <td>One Flew Over the Cuckoo's Nest</td>\n",
       "      <td>3000000</td>\n",
       "      <td>35</td>\n",
       "      <td>1975</td>\n",
       "      <td>108981275</td>\n",
       "      <td>133</td>\n",
       "      <td>8.3</td>\n",
       "      <td>3001</td>\n",
       "    </tr>\n",
       "  </tbody>\n",
       "</table>\n",
       "</div>"
      ],
      "text/plain": [
       "                             title    budget  popularity  release_date  \\\n",
       "0                    The Godfather   6000000          41          1972   \n",
       "1         The Shawshank Redemption  25000000          51          1994   \n",
       "2                       Fight Club  63000000          63          1999   \n",
       "3                 Schindler's List  22000000          41          1993   \n",
       "4  One Flew Over the Cuckoo's Nest   3000000          35          1975   \n",
       "\n",
       "     revenue  runtime  vote_average  vote_count  \n",
       "0  245066411      175           8.5        6024  \n",
       "1   28341469      142           8.5        8358  \n",
       "2  100853753      139           8.3        9678  \n",
       "3  321365567      195           8.3        4436  \n",
       "4  108981275      133           8.3        3001  "
      ]
     },
     "execution_count": 19,
     "metadata": {},
     "output_type": "execute_result"
    }
   ],
   "source": [
    "mv_df = pd.read_csv(os.path.join(\"..\", \"Resources\", \"final_movie_metadata.csv\"))\n",
    "mv_df['popularity'] = mv_df['popularity'].astype(int)\n",
    "mv_df.head()"
   ]
  },
  {
   "cell_type": "code",
   "execution_count": 30,
   "metadata": {},
   "outputs": [
    {
     "name": "stderr",
     "output_type": "stream",
     "text": [
      "/Users/brian.abbe/anaconda3/envs/Pythondata/lib/python3.6/site-packages/sklearn/ensemble/forest.py:245: FutureWarning: The default value of n_estimators will change from 10 in version 0.20 to 100 in 0.22.\n",
      "  \"10 in version 0.20 to 100 in 0.22.\", FutureWarning)\n"
     ]
    },
    {
     "data": {
      "text/plain": [
       "RandomForestClassifier(bootstrap=True, class_weight=None, criterion='gini',\n",
       "                       max_depth=2, max_features='auto', max_leaf_nodes=None,\n",
       "                       min_impurity_decrease=0.0, min_impurity_split=None,\n",
       "                       min_samples_leaf=1, min_samples_split=2,\n",
       "                       min_weight_fraction_leaf=0.0, n_estimators=10,\n",
       "                       n_jobs=None, oob_score=False, random_state=0, verbose=0,\n",
       "                       warm_start=False)"
      ]
     },
     "execution_count": 30,
     "metadata": {},
     "output_type": "execute_result"
    }
   ],
   "source": [
    "X, y = make_classification(n_samples=200, n_features=8, n_informative=2, n_redundant=0,\n",
    "                           random_state=0, shuffle=False)\n",
    "rf = RandomForestClassifier(max_depth=2, random_state=0)\n",
    "rf.fit(X, y)\n",
    "# rf.predict(np.array([8,1]).reshape(-1, 1))"
   ]
  },
  {
   "cell_type": "code",
   "execution_count": 32,
   "metadata": {},
   "outputs": [],
   "source": [
    "for features in mv_df['popularity']:\n",
    "    enc = KBinsDiscretizer(n_bins=4, encode='ordinal')\n",
    "#     enc.fit(features)\n",
    "#     print(features)"
   ]
  },
  {
   "cell_type": "code",
   "execution_count": 33,
   "metadata": {},
   "outputs": [
    {
     "name": "stdout",
     "output_type": "stream",
     "text": [
      "[0.13493372 0.24352013 0.05631669 0.08109026 0.12186089 0.07402856\n",
      " 0.03750779 0.25074196]\n"
     ]
    }
   ],
   "source": [
    "RandomForestClassifier(max_depth=3, random_state=0)\n",
    "print(rf.feature_importances_)"
   ]
  },
  {
   "cell_type": "code",
   "execution_count": 34,
   "metadata": {},
   "outputs": [
    {
     "data": {
      "text/plain": [
       "[(0.25074196167496055, 'Psycho'),\n",
       " (0.24352012626687639, 'The Shawshank Redemption'),\n",
       " (0.1349337240697829, 'The Godfather'),\n",
       " (0.12186089410891573, \"One Flew Over the Cuckoo's Nest\"),\n",
       " (0.08109025927719678, \"Schindler's List\"),\n",
       " (0.0740285614806322, 'The Dark Knight'),\n",
       " (0.05631668786515086, 'Fight Club'),\n",
       " (0.03750778525648462, 'Whiplash')]"
      ]
     },
     "execution_count": 34,
     "metadata": {},
     "output_type": "execute_result"
    }
   ],
   "source": [
    "sorted(zip(rf.feature_importances_, mv_df.title), reverse=True)"
   ]
  },
  {
   "cell_type": "code",
   "execution_count": 36,
   "metadata": {},
   "outputs": [],
   "source": [
    "# rf = RandomForestClassifier(n_estimators=200)\n",
    "# rf = rf.fit(mv_df.revenue, mv_df.vote_average)\n",
    "# rf.score(mv_df.revenue, mv_df.vote_average)\n",
    "from sklearn.model_selection import train_test_split\n",
    "X_train, X_test, y_train, y_test = train_test_split(X, y, random_state=42)"
   ]
  },
  {
   "cell_type": "code",
   "execution_count": 37,
   "metadata": {},
   "outputs": [
    {
     "data": {
      "text/plain": [
       "0.88"
      ]
     },
     "execution_count": 37,
     "metadata": {},
     "output_type": "execute_result"
    }
   ],
   "source": [
    "rf = rf.fit(X_train, y_train)\n",
    "rf.score(X_test, y_test)"
   ]
  },
  {
   "cell_type": "code",
   "execution_count": null,
   "metadata": {},
   "outputs": [],
   "source": []
  }
 ],
 "metadata": {
  "kernelspec": {
   "display_name": "Python 3",
   "language": "python",
   "name": "python3"
  },
  "language_info": {
   "codemirror_mode": {
    "name": "ipython",
    "version": 3
   },
   "file_extension": ".py",
   "mimetype": "text/x-python",
   "name": "python",
   "nbconvert_exporter": "python",
   "pygments_lexer": "ipython3",
   "version": "3.6.9"
  }
 },
 "nbformat": 4,
 "nbformat_minor": 2
}
